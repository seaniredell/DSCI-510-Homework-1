{
  "nbformat": 4,
  "nbformat_minor": 0,
  "metadata": {
    "colab": {
      "provenance": []
    },
    "kernelspec": {
      "name": "python3",
      "display_name": "Python 3"
    },
    "language_info": {
      "name": "python"
    }
  },
  "cells": [
    {
      "cell_type": "code",
      "source": [
        "# Drop NaN values from Date column (run last)\n",
        "import pandas as pd\n",
        "\n",
        "df = pd.read_csv(\"../Data/haunted_places.csv\") # Update with whatever resulting csv path is\n",
        "df_cleaned = df.dropna(subset=['Haunted Places Date'])\n",
        "df_cleaned = df_cleaned.rename(columns={'Haunted Places Date': 'Haunted Places D'})\n",
        "df_cleaned.to_csv(\"cleaned_file.csv\", index=False)"
      ],
      "metadata": {
        "id": "JadW3KFbvBiZ"
      },
      "execution_count": null,
      "outputs": []
    }
  ]
}